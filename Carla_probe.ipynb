{
 "cells": [
  {
   "cell_type": "code",
   "execution_count": 10,
   "metadata": {},
   "outputs": [],
   "source": [
    "import glob\n",
    "import os\n",
    "import sys\n",
    "import logging\n",
    "import random\n",
    "import cv2\n",
    "import numpy as np\n",
    "from matplotlib import pyplot as plt\n",
    "\n",
    "try:\n",
    "    sys.path.append(glob.glob('../carla/dist/carla-*%d.%d-%s.egg' % (\n",
    "        sys.version_info.major,\n",
    "        sys.version_info.minor,\n",
    "        'win-amd64' if os.name == 'nt' else 'linux-x86_64'))[0])\n",
    "except IndexError:\n",
    "    pass\n",
    "\n",
    "import carla"
   ]
  },
  {
   "cell_type": "code",
   "execution_count": 11,
   "metadata": {},
   "outputs": [
    {
     "output_type": "stream",
     "name": "stdout",
     "text": [
      "['/Game/Carla/Maps/Town10HD', '/Game/Carla/Maps/Town02', '/Game/Carla/Maps/Town01', '/Game/Carla/Maps/Town07', '/Game/Carla/Maps/Town03', '/Game/Carla/Maps/Town06', '/Game/Carla/Maps/Town04', '/Game/Carla/Maps/Town05']\n"
     ]
    }
   ],
   "source": [
    "client = carla.Client('localhost',2000)\n",
    "client.set_timeout(10.0)\n",
    "print(client.get_available_maps())"
   ]
  },
  {
   "cell_type": "code",
   "execution_count": 12,
   "metadata": {},
   "outputs": [
    {
     "output_type": "stream",
     "name": "stdout",
     "text": [
      "World(id=14230274798913576886)\n"
     ]
    }
   ],
   "source": [
    "world = client.load_world('Town02')\n",
    "print(world)\n",
    "#print(world.get_actors())\n",
    "imagen = None"
   ]
  },
  {
   "cell_type": "code",
   "execution_count": 13,
   "metadata": {},
   "outputs": [],
   "source": [
    "\n",
    "class Images():\n",
    "    \n",
    "    def __init__(self):\n",
    "        self.image = np.zeros(shape=(360, 540, 3), dtype=np.uint8)\n",
    "        \n",
    "    def get_image(self):\n",
    "        return self.image"
   ]
  },
  {
   "cell_type": "code",
   "execution_count": 14,
   "metadata": {},
   "outputs": [],
   "source": [
    "class Cameraman():\n",
    "    \n",
    "    def __init__(self, actor, width = 640, height = 480):\n",
    "        self.width = width\n",
    "        self.height = height\n",
    "        self.imageOut = None\n",
    "        self.actor = actor\n",
    "        \n",
    "        \n",
    "    @staticmethod\n",
    "    def parse_image_ext(self, image):\n",
    "        self.imageOut = Cameraman.parse_image(image)\n",
    "    \n",
    "    @staticmethod\n",
    "    def parse_image(self, image):\n",
    "        array = np.frombuffer(image.raw_data, dtype=np.dtype(\"uint8\"))\n",
    "        array = np.reshape(array, (image.height, image.width, 4))\n",
    "        array = array[:, :, :3]\n",
    "        array = array[:, :, ::-1]\n",
    "        return array.copy()"
   ]
  },
  {
   "cell_type": "code",
   "execution_count": 15,
   "metadata": {},
   "outputs": [],
   "source": [
    "def img_preprocess(image):\n",
    "    height, _, _ = image.shape\n",
    "    image = image[int(height/2):,:,:]  \n",
    "    #image = cv2.cvtColor(image, cv2.COLOR_RGB2YUV)  \n",
    "    #image = cv2.GaussianBlur(image, (3,3), 0)\n",
    "    image = cv2.resize(image, (200,66)) \n",
    "    image = image / 255 \n",
    "    return image"
   ]
  },
  {
   "cell_type": "code",
   "execution_count": 16,
   "metadata": {},
   "outputs": [],
   "source": [
    "def parse_image(image):\n",
    "    image.convert(carla.ColorConverter.Raw)\n",
    "    array = np.frombuffer(image.raw_data, dtype=np.dtype(\"uint8\"))\n",
    "    array = np.reshape(array, (image.height, image.width, 4))\n",
    "    array = array[:, :, :3]\n",
    "    array = array[:, :, ::-1]\n",
    "    return array.copy()\n",
    "\n",
    "def parse_image_ext(image, images):\n",
    "    images.image = parse_image(image)\n",
    "    image.save_to_disk('images/%.6d.jpg' % image.frame)"
   ]
  },
  {
   "cell_type": "code",
   "execution_count": 17,
   "metadata": {},
   "outputs": [
    {
     "output_type": "stream",
     "name": "stdout",
     "text": [
      "BoundingBox(Location(x=0.029219, y=-0.000000, z=0.735531), Extent(x=2.395890, y=1.081725, z=0.744160), Rotation(pitch=0.000000, yaw=0.000000, roll=0.000000))\n",
      "Location(x=0.000000, y=0.000000, z=0.000000)\n",
      "Actor(id=932, type=vehicle.tesla.model3)\n",
      "Vector3D(x=0.000000, y=0.000000, z=0.000000)\n",
      "images\n",
      "\n",
      "Done with tutorial_ego.\n"
     ]
    }
   ],
   "source": [
    "try:\n",
    "    blueprint_library = world.get_blueprint_library()\n",
    "    #print(blueprint_library)\n",
    "    #blueprint_library = blueprint_library.filter('vehicle.*')\n",
    "    #print(blueprint_library)\n",
    "    tesla_blueprint = blueprint_library.find('vehicle.tesla.model3')\n",
    "    tesla_blueprint.set_attribute('role_name','ego')\n",
    "    spawn_points = world.get_map().get_spawn_points()\n",
    "\n",
    "    if len(spawn_points) > 0:\n",
    "        random.shuffle(spawn_points)\n",
    "        transform = spawn_points[0]\n",
    "        vehicle = world.spawn_actor(tesla_blueprint, transform)\n",
    "    else:\n",
    "        logging.warning('No points to spawn')\n",
    "\n",
    "    print(vehicle.bounding_box)\n",
    "    images = Images()\n",
    "    print(vehicle.get_location())\n",
    "    print(vehicle)\n",
    "    print(vehicle.get_velocity())\n",
    "    cam_bp = world.get_blueprint_library().find('sensor.camera.rgb')\n",
    "    cam_bp.set_attribute(\"image_size_x\", str(1080))\n",
    "    cam_bp.set_attribute(\"image_size_y\", str(720))\n",
    "    cam_bp.set_attribute(\"sensor_tick\", str(2))\n",
    "    \n",
    "    cam_location = carla.Location(2,0,1)\n",
    "    cam_rotation = carla.Rotation(0,0,0)\n",
    "    cam_transform = carla.Transform(cam_location,cam_rotation)\n",
    "    ego_cam = world.spawn_actor(cam_bp,cam_transform,attach_to=vehicle, attachment_type=carla.AttachmentType.Rigid)\n",
    "    #ego_cam.listen(lambda image: image.save_to_disk('images/%.6d.jpg' % image.frame))\n",
    "    ego_cam.listen(lambda image: parse_image_ext(image, images))\n",
    "\n",
    "    #spectator = world.get_spectator()\n",
    "    #world_snapshot = world.wait_for_tick() \n",
    "    #spectator.set_transform(vehicle.get_transform())\n",
    "\n",
    "    #cameraman = Cameraman(vehicle)\n",
    "    #print(cameraman.width)\n",
    "    #figure(1)\n",
    "    print(\"images\")\n",
    "    while True:\n",
    "        #control = carla.VehicleControl(1.0,0)\n",
    "        vehicle.set_autopilot()\n",
    "        \n",
    "        #image = Images(cameraman)\n",
    "        #print(image.get_image)\n",
    "        #print(images.image)\n",
    "        \n",
    "        #plt.imshow(images.image)\n",
    "        #plt.show()\n",
    "        cv2.imshow('carla', images.image)\n",
    "        cv2.waitKey(1)\n",
    "        #print(cameraman.imageOut)\n",
    "        world_snapshot = world.wait_for_tick()\n",
    "\n",
    "except KeyboardInterrupt:\n",
    "    pass\n",
    "    # --------------\n",
    "    # Stop recording and destroy actors\n",
    "    # --------------\n",
    "    #client.stop_recorder()\n",
    "finally:\n",
    "    if vehicle is not None:\n",
    "        if ego_cam is not None:\n",
    "            ego_cam.stop()\n",
    "            ego_cam.destroy()\n",
    "        vehicle.destroy()\n",
    "        cv2.destroyAllWindows() \n",
    "        print('\\nDone with tutorial_ego.')"
   ]
  },
  {
   "cell_type": "code",
   "execution_count": null,
   "metadata": {},
   "outputs": [],
   "source": []
  }
 ],
 "metadata": {
  "kernelspec": {
   "name": "python3710jvsc74a57bd07f5c0e581fe96e0bce3971b41b0c4408026bee4bbaebeb481da405118d6a56bc",
   "display_name": "Python 3.7.10 64-bit ('env')"
  },
  "language_info": {
   "codemirror_mode": {
    "name": "ipython",
    "version": 3
   },
   "file_extension": ".py",
   "mimetype": "text/x-python",
   "name": "python",
   "nbconvert_exporter": "python",
   "pygments_lexer": "ipython3",
   "version": "3.7.10-final"
  },
  "metadata": {
   "interpreter": {
    "hash": "7f5c0e581fe96e0bce3971b41b0c4408026bee4bbaebeb481da405118d6a56bc"
   }
  }
 },
 "nbformat": 4,
 "nbformat_minor": 4
}