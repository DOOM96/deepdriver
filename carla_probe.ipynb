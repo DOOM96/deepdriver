{
 "metadata": {
  "language_info": {
   "codemirror_mode": {
    "name": "ipython",
    "version": 3
   },
   "file_extension": ".py",
   "mimetype": "text/x-python",
   "name": "python",
   "nbconvert_exporter": "python",
   "pygments_lexer": "ipython3",
   "version": "3.7.10-final"
  },
  "orig_nbformat": 2,
  "kernelspec": {
   "name": "python3710jvsc74a57bd07f5c0e581fe96e0bce3971b41b0c4408026bee4bbaebeb481da405118d6a56bc",
   "display_name": "Python 3.7.10 64-bit ('env')"
  },
  "metadata": {
   "interpreter": {
    "hash": "7f5c0e581fe96e0bce3971b41b0c4408026bee4bbaebeb481da405118d6a56bc"
   }
  }
 },
 "nbformat": 4,
 "nbformat_minor": 2,
 "cells": [
  {
   "cell_type": "code",
   "execution_count": 25,
   "metadata": {},
   "outputs": [
    {
     "output_type": "stream",
     "name": "stderr",
     "text": [
      "Matplotlib is building the font cache; this may take a moment.\n",
      "hello\n"
     ]
    }
   ],
   "source": [
    "import glob\n",
    "import os\n",
    "import sys\n",
    "import logging\n",
    "import random\n",
    "import cv2\n",
    "import numpy as np\n",
    "from matplotlib import pyplot as plt\n",
    "\n",
    "try:\n",
    "    sys.path.append(glob.glob('../carla/dist/carla-*%d.%d-%s.egg' % (\n",
    "        sys.version_info.major,\n",
    "        sys.version_info.minor,\n",
    "        'win-amd64' if os.name == 'nt' else 'linux-x86_64'))[0])\n",
    "except IndexError:\n",
    "    pass\n",
    "\n",
    "import carla\n",
    "\n",
    "print('hello')"
   ]
  },
  {
   "cell_type": "code",
   "execution_count": 26,
   "metadata": {},
   "outputs": [
    {
     "output_type": "stream",
     "name": "stdout",
     "text": [
      "['/Game/Carla/Maps/Town10HD', '/Game/Carla/Maps/Town02', '/Game/Carla/Maps/Town01', '/Game/Carla/Maps/Town07', '/Game/Carla/Maps/Town03', '/Game/Carla/Maps/Town06', '/Game/Carla/Maps/Town04', '/Game/Carla/Maps/Town05']\n"
     ]
    }
   ],
   "source": [
    "client = carla.Client('localhost',2000)\n",
    "client.set_timeout(1000.0)\n",
    "print(client.get_available_maps())"
   ]
  },
  {
   "cell_type": "code",
   "execution_count": 27,
   "metadata": {},
   "outputs": [
    {
     "output_type": "stream",
     "name": "stdout",
     "text": [
      "World(id=3597519292591881755)\n"
     ]
    }
   ],
   "source": [
    "world = client.load_world('Town02')\n",
    "print(world)"
   ]
  },
  {
   "cell_type": "code",
   "execution_count": 28,
   "metadata": {},
   "outputs": [
    {
     "output_type": "stream",
     "name": "stdout",
     "text": [
      "[ActorBlueprint(id=static.prop.mesh,tags=[mesh, prop, static]), ActorBlueprint(id=static.prop.advertisement,tags=[advertisement, prop, static]), ActorBlueprint(id=static.prop.fountain,tags=[fountain, prop, static]), ActorBlueprint(id=static.prop.doghouse,tags=[doghouse, prop, static]), ActorBlueprint(id=static.prop.trashcan04,tags=[trashcan04, prop, static]), ActorBlueprint(id=static.prop.trashcan02,tags=[trashcan02, prop, static]), ActorBlueprint(id=static.prop.trashcan01,tags=[trashcan01, prop, static]), ActorBlueprint(id=static.prop.trafficcone02,tags=[trafficcone02, prop, static]), ActorBlueprint(id=static.prop.wateringcan,tags=[wateringcan, prop, static]), ActorBlueprint(id=static.prop.table,tags=[table, prop, static]), ActorBlueprint(id=static.prop.swingcouch,tags=[swingcouch, prop, static]), ActorBlueprint(id=static.prop.streetfountain,tags=[streetfountain, prop, static]), ActorBlueprint(id=static.prop.streetbarrier,tags=[streetbarrier, prop, static]), ActorBlueprint(id=static.prop.streetsign04,tags=[streetsign04, prop, static]), ActorBlueprint(id=static.prop.slide,tags=[slide, prop, static]), ActorBlueprint(id=static.prop.shoppingcart,tags=[shoppingcart, prop, static]), ActorBlueprint(id=static.prop.plastictable,tags=[plastictable, prop, static]), ActorBlueprint(id=static.prop.plasticbag,tags=[plasticbag, prop, static]), ActorBlueprint(id=static.prop.plantpot06,tags=[prop, plantpot06, static]), ActorBlueprint(id=static.prop.trashcan03,tags=[trashcan03, prop, static]), ActorBlueprint(id=static.prop.plantpot05,tags=[plantpot05, prop, static]), ActorBlueprint(id=static.prop.mobile,tags=[prop, mobile, static]), ActorBlueprint(id=static.prop.maptable,tags=[maptable, prop, static]), ActorBlueprint(id=static.prop.mailbox,tags=[mailbox, prop, static]), ActorBlueprint(id=static.prop.gnome,tags=[prop, gnome, static]), ActorBlueprint(id=static.prop.glasscontainer,tags=[glasscontainer, prop, static]), ActorBlueprint(id=static.prop.garbage05,tags=[garbage05, prop, static]), ActorBlueprint(id=static.prop.garbage03,tags=[garbage03, prop, static]), ActorBlueprint(id=static.prop.garbage02,tags=[garbage02, prop, static]), ActorBlueprint(id=static.trigger.friction,tags=[friction, trigger, static]), ActorBlueprint(id=static.prop.plantpot08,tags=[plantpot08, prop, static]), ActorBlueprint(id=static.prop.garbage01,tags=[garbage01, prop, static]), ActorBlueprint(id=static.prop.shoppingtrolley,tags=[shoppingtrolley, prop, static]), ActorBlueprint(id=static.prop.motorhelmet,tags=[prop, motorhelmet, static]), ActorBlueprint(id=static.prop.dirtdebris03,tags=[dirtdebris03, prop, static]), ActorBlueprint(id=static.prop.dirtdebris01,tags=[dirtdebris01, prop, static]), ActorBlueprint(id=static.prop.creasedbox03,tags=[creasedbox03, prop, static]), ActorBlueprint(id=static.prop.creasedbox02,tags=[creasedbox02, prop, static]), ActorBlueprint(id=static.prop.creasedbox01,tags=[prop, creasedbox01, static]), ActorBlueprint(id=static.prop.travelcase,tags=[travelcase, prop, static]), ActorBlueprint(id=static.prop.container,tags=[container, prop, static]), ActorBlueprint(id=static.prop.constructioncone,tags=[constructioncone, prop, static]), ActorBlueprint(id=static.prop.colacan,tags=[colacan, prop, static]), ActorBlueprint(id=static.prop.clothcontainer,tags=[clothcontainer, prop, static]), ActorBlueprint(id=static.prop.dirtdebris02,tags=[dirtdebris02, prop, static]), ActorBlueprint(id=static.prop.chainbarrier,tags=[prop, chainbarrier, static]), ActorBlueprint(id=controller.ai.walker,tags=[walker, ai, controller]), ActorBlueprint(id=static.prop.vendingmachine,tags=[vendingmachine, prop, static]), ActorBlueprint(id=static.prop.brokentile04,tags=[brokentile04, prop, static]), ActorBlueprint(id=static.prop.brokentile01,tags=[brokentile01, prop, static]), ActorBlueprint(id=static.prop.briefcase,tags=[briefcase, prop, static]), ActorBlueprint(id=static.prop.box03,tags=[box03, prop, static]), ActorBlueprint(id=static.prop.streetsign01,tags=[streetsign01, prop, static]), ActorBlueprint(id=static.prop.box02,tags=[box02, prop, static]), ActorBlueprint(id=static.prop.box01,tags=[box01, prop, static]), ActorBlueprint(id=static.prop.bike helmet,tags=[bike helmet, prop, static]), ActorBlueprint(id=static.prop.bench02,tags=[bench02, prop, static]), ActorBlueprint(id=static.prop.trashcan05,tags=[trashcan05, prop, static]), ActorBlueprint(id=static.prop.clothesline,tags=[clothesline, prop, static]), ActorBlueprint(id=static.prop.barrel,tags=[barrel, prop, static]), ActorBlueprint(id=static.prop.trafficcone01,tags=[trafficcone01, prop, static]), ActorBlueprint(id=static.prop.barbeque,tags=[barbeque, prop, static]), ActorBlueprint(id=static.prop.atm,tags=[prop, atm, static]), ActorBlueprint(id=walker.pedestrian.0026,tags=[pedestrian, 0026, walker]), ActorBlueprint(id=static.prop.plantpot01,tags=[plantpot01, prop, static]), ActorBlueprint(id=static.prop.busstop,tags=[busstop, prop, static]), ActorBlueprint(id=walker.pedestrian.0025,tags=[0025, pedestrian, walker]), ActorBlueprint(id=static.prop.plantpot02,tags=[plantpot02, prop, static]), ActorBlueprint(id=walker.pedestrian.0023,tags=[0023, pedestrian, walker]), ActorBlueprint(id=static.prop.bin,tags=[bin, prop, static]), ActorBlueprint(id=walker.pedestrian.0022,tags=[0022, pedestrian, walker]), ActorBlueprint(id=static.prop.brokentile03,tags=[brokentile03, prop, static]), ActorBlueprint(id=walker.pedestrian.0024,tags=[pedestrian, 0024, walker]), ActorBlueprint(id=walker.pedestrian.0020,tags=[0020, pedestrian, walker]), ActorBlueprint(id=walker.pedestrian.0019,tags=[0019, pedestrian, walker]), ActorBlueprint(id=walker.pedestrian.0018,tags=[0018, pedestrian, walker]), ActorBlueprint(id=static.prop.kiosk_01,tags=[kiosk_01, prop, static]), ActorBlueprint(id=walker.pedestrian.0017,tags=[0017, pedestrian, walker]), ActorBlueprint(id=walker.pedestrian.0016,tags=[0016, pedestrian, walker]), ActorBlueprint(id=walker.pedestrian.0014,tags=[0014, pedestrian, walker]), ActorBlueprint(id=static.prop.ironplank,tags=[ironplank, prop, static]), ActorBlueprint(id=static.prop.chainbarrierend,tags=[chainbarrierend, prop, static]), ActorBlueprint(id=walker.pedestrian.0013,tags=[0013, pedestrian, walker]), ActorBlueprint(id=static.prop.trashbag,tags=[trashbag, prop, static]), ActorBlueprint(id=walker.pedestrian.0012,tags=[0012, pedestrian, walker]), ActorBlueprint(id=walker.pedestrian.0010,tags=[0010, pedestrian, walker]), ActorBlueprint(id=walker.pedestrian.0009,tags=[0009, pedestrian, walker]), ActorBlueprint(id=walker.pedestrian.0008,tags=[0008, pedestrian, walker]), ActorBlueprint(id=walker.pedestrian.0006,tags=[pedestrian, 0006, walker]), ActorBlueprint(id=static.prop.purse,tags=[prop, purse, static]), ActorBlueprint(id=static.prop.pergola,tags=[pergola, prop, static]), ActorBlueprint(id=static.prop.guitarcase,tags=[guitarcase, prop, static]), ActorBlueprint(id=walker.pedestrian.0005,tags=[0005, pedestrian, walker]), ActorBlueprint(id=static.prop.swing,tags=[swing, prop, static]), ActorBlueprint(id=walker.pedestrian.0004,tags=[0004, pedestrian, walker]), ActorBlueprint(id=walker.pedestrian.0003,tags=[0003, pedestrian, walker]), ActorBlueprint(id=walker.pedestrian.0002,tags=[0002, pedestrian, walker]), ActorBlueprint(id=walker.pedestrian.0001,tags=[0001, pedestrian, walker]), ActorBlueprint(id=sensor.camera.semantic_segmentation,tags=[semantic_segmentation, camera, sensor]), ActorBlueprint(id=static.prop.shoppingbag,tags=[shoppingbag, prop, static]), ActorBlueprint(id=static.prop.plantpot03,tags=[plantpot03, prop, static]), ActorBlueprint(id=static.prop.brokentile02,tags=[brokentile02, prop, static]), ActorBlueprint(id=sensor.camera.rgb,tags=[rgb, camera, sensor]), ActorBlueprint(id=walker.pedestrian.0007,tags=[0007, pedestrian, walker]), ActorBlueprint(id=sensor.other.rss,tags=[rss, other, sensor]), ActorBlueprint(id=sensor.other.lane_invasion,tags=[lane_invasion, other, sensor]), ActorBlueprint(id=sensor.other.imu,tags=[other, imu, sensor]), ActorBlueprint(id=sensor.other.gnss,tags=[gnss, other, sensor]), ActorBlueprint(id=sensor.camera.dvs,tags=[dvs, camera, sensor]), ActorBlueprint(id=static.prop.garbage04,tags=[garbage04, prop, static]), ActorBlueprint(id=sensor.camera.depth,tags=[depth, camera, sensor]), ActorBlueprint(id=static.prop.plantpot04,tags=[prop, plantpot04, static]), ActorBlueprint(id=sensor.other.collision,tags=[collision, other, sensor]), ActorBlueprint(id=static.prop.streetsign,tags=[streetsign, prop, static]), ActorBlueprint(id=vehicle.mustang.mustang,tags=[mustang, vehicle]), ActorBlueprint(id=static.prop.bench03,tags=[bench03, prop, static]), ActorBlueprint(id=sensor.lidar.ray_cast_semantic,tags=[ray_cast_semantic, lidar, sensor]), ActorBlueprint(id=vehicle.lincoln.mkz2017,tags=[mkz2017, lincoln, vehicle]), ActorBlueprint(id=walker.pedestrian.0011,tags=[0011, pedestrian, walker]), ActorBlueprint(id=sensor.lidar.ray_cast,tags=[ray_cast, lidar, sensor]), ActorBlueprint(id=vehicle.volkswagen.t2,tags=[volkswagen, t2, vehicle]), ActorBlueprint(id=walker.pedestrian.0015,tags=[0015, pedestrian, walker]), ActorBlueprint(id=vehicle.tesla.model3,tags=[tesla, model3, vehicle]), ActorBlueprint(id=vehicle.tesla.cybertruck,tags=[cybertruck, tesla, vehicle]), ActorBlueprint(id=static.prop.gardenlamp,tags=[gardenlamp, prop, static]), ActorBlueprint(id=vehicle.audi.etron,tags=[etron, audi, vehicle]), ActorBlueprint(id=sensor.other.obstacle,tags=[obstacle, other, sensor]), ActorBlueprint(id=vehicle.diamondback.century,tags=[century, diamondback, vehicle]), ActorBlueprint(id=vehicle.bh.crossbike,tags=[crossbike, bh, vehicle]), ActorBlueprint(id=static.prop.plasticchair,tags=[plasticchair, prop, static]), ActorBlueprint(id=vehicle.kawasaki.ninja,tags=[ninja, kawasaki, vehicle]), ActorBlueprint(id=walker.pedestrian.0021,tags=[0021, pedestrian, walker]), ActorBlueprint(id=vehicle.yamaha.yzf,tags=[yzf, yamaha, vehicle]), ActorBlueprint(id=vehicle.harley-davidson.low_rider,tags=[low_rider, harley-davidson, vehicle]), ActorBlueprint(id=vehicle.toyota.prius,tags=[prius, toyota, vehicle]), ActorBlueprint(id=vehicle.seat.leon,tags=[leon, seat, vehicle]), ActorBlueprint(id=static.prop.trampoline,tags=[trampoline, prop, static]), ActorBlueprint(id=static.prop.bench01,tags=[bench01, prop, static]), ActorBlueprint(id=vehicle.nissan.patrol,tags=[patrol, nissan, vehicle]), ActorBlueprint(id=vehicle.mini.cooperst,tags=[mini, cooperst, vehicle]), ActorBlueprint(id=vehicle.mercedes-benz.coupe,tags=[coupe, mercedes-benz, vehicle]), ActorBlueprint(id=sensor.other.radar,tags=[radar, other, sensor]), ActorBlueprint(id=vehicle.jeep.wrangler_rubicon,tags=[wrangler_rubicon, jeep, vehicle]), ActorBlueprint(id=vehicle.dodge_charger.police,tags=[police, dodge_charger, vehicle]), ActorBlueprint(id=static.prop.plantpot07,tags=[plantpot07, prop, static]), ActorBlueprint(id=vehicle.gazelle.omafiets,tags=[omafiets, gazelle, vehicle]), ActorBlueprint(id=vehicle.citroen.c3,tags=[c3, citroen, vehicle]), ActorBlueprint(id=vehicle.chevrolet.impala,tags=[impala, chevrolet, vehicle]), ActorBlueprint(id=static.prop.trafficwarning,tags=[trafficwarning, prop, static]), ActorBlueprint(id=vehicle.nissan.micra,tags=[micra, nissan, vehicle]), ActorBlueprint(id=vehicle.carlamotors.carlacola,tags=[carlacola, carlamotors, vehicle]), ActorBlueprint(id=vehicle.bmw.isetta,tags=[isetta, bmw, vehicle]), ActorBlueprint(id=static.prop.platformgarbage01,tags=[platformgarbage01, prop, static]), ActorBlueprint(id=vehicle.bmw.grandtourer,tags=[grandtourer, bmw, vehicle]), ActorBlueprint(id=vehicle.audi.tt,tags=[tt, audi, vehicle]), ActorBlueprint(id=static.prop.garbage06,tags=[garbage06, prop, static]), ActorBlueprint(id=vehicle.audi.a2,tags=[a2, audi, vehicle])]\n[ActorBlueprint(id=vehicle.audi.a2,tags=[a2, audi, vehicle]), ActorBlueprint(id=vehicle.audi.tt,tags=[tt, audi, vehicle]), ActorBlueprint(id=vehicle.carlamotors.carlacola,tags=[carlacola, carlamotors, vehicle]), ActorBlueprint(id=vehicle.bmw.isetta,tags=[isetta, bmw, vehicle]), ActorBlueprint(id=vehicle.nissan.micra,tags=[micra, nissan, vehicle]), ActorBlueprint(id=vehicle.citroen.c3,tags=[c3, citroen, vehicle]), ActorBlueprint(id=vehicle.gazelle.omafiets,tags=[omafiets, gazelle, vehicle]), ActorBlueprint(id=vehicle.mercedes-benz.coupe,tags=[coupe, mercedes-benz, vehicle]), ActorBlueprint(id=vehicle.mini.cooperst,tags=[mini, cooperst, vehicle]), ActorBlueprint(id=vehicle.nissan.patrol,tags=[patrol, nissan, vehicle]), ActorBlueprint(id=vehicle.mustang.mustang,tags=[mustang, vehicle]), ActorBlueprint(id=vehicle.lincoln.mkz2017,tags=[mkz2017, lincoln, vehicle]), ActorBlueprint(id=vehicle.tesla.cybertruck,tags=[cybertruck, tesla, vehicle]), ActorBlueprint(id=vehicle.toyota.prius,tags=[prius, toyota, vehicle]), ActorBlueprint(id=vehicle.volkswagen.t2,tags=[volkswagen, t2, vehicle]), ActorBlueprint(id=vehicle.bmw.grandtourer,tags=[grandtourer, bmw, vehicle]), ActorBlueprint(id=vehicle.tesla.model3,tags=[tesla, model3, vehicle]), ActorBlueprint(id=vehicle.diamondback.century,tags=[century, diamondback, vehicle]), ActorBlueprint(id=vehicle.dodge_charger.police,tags=[police, dodge_charger, vehicle]), ActorBlueprint(id=vehicle.bh.crossbike,tags=[crossbike, bh, vehicle]), ActorBlueprint(id=vehicle.kawasaki.ninja,tags=[ninja, kawasaki, vehicle]), ActorBlueprint(id=vehicle.jeep.wrangler_rubicon,tags=[wrangler_rubicon, jeep, vehicle]), ActorBlueprint(id=vehicle.yamaha.yzf,tags=[yzf, yamaha, vehicle]), ActorBlueprint(id=vehicle.chevrolet.impala,tags=[impala, chevrolet, vehicle]), ActorBlueprint(id=vehicle.harley-davidson.low_rider,tags=[low_rider, harley-davidson, vehicle]), ActorBlueprint(id=vehicle.audi.etron,tags=[etron, audi, vehicle]), ActorBlueprint(id=vehicle.seat.leon,tags=[leon, seat, vehicle])]\n"
     ]
    }
   ],
   "source": [
    "blueprint_library = world.get_blueprint_library()\n",
    "print(blueprint_library)\n",
    "blueprint_library = blueprint_library.filter('vehicle.*')\n",
    "print(blueprint_library)"
   ]
  },
  {
   "cell_type": "code",
   "execution_count": 29,
   "metadata": {},
   "outputs": [],
   "source": [
    "tesla_blueprint = blueprint_library.find('vehicle.tesla.model3')\n",
    "tesla_blueprint.set_attribute('role_name','ego')\n"
   ]
  },
  {
   "cell_type": "code",
   "execution_count": 30,
   "metadata": {},
   "outputs": [],
   "source": [
    "spawn_points = world.get_map().get_spawn_points()"
   ]
  },
  {
   "cell_type": "code",
   "execution_count": 37,
   "metadata": {},
   "outputs": [],
   "source": [
    "if len(spawn_points) > 0:\n",
    "        random.shuffle(spawn_points)\n",
    "        transform = spawn_points[0]\n",
    "        vehicle = world.spawn_actor(tesla_blueprint, transform)\n",
    "else:\n",
    "    logging.warning('No points to spawn')"
   ]
  },
  {
   "cell_type": "code",
   "execution_count": 33,
   "metadata": {},
   "outputs": [
    {
     "output_type": "execute_result",
     "data": {
      "text/plain": [
       "False"
      ]
     },
     "metadata": {},
     "execution_count": 33
    }
   ],
   "source": [
    "vehicle.destroy()"
   ]
  },
  {
   "cell_type": "code",
   "execution_count": 38,
   "metadata": {},
   "outputs": [
    {
     "output_type": "stream",
     "name": "stdout",
     "text": [
      "BoundingBox(Location(x=0.029219, y=0.000000, z=0.735531), Extent(x=2.395890, y=1.081725, z=0.744160), Rotation(pitch=0.000000, yaw=0.000000, roll=0.000000))\n"
     ]
    }
   ],
   "source": [
    "print(vehicle.bounding_box)"
   ]
  },
  {
   "cell_type": "code",
   "execution_count": 39,
   "metadata": {},
   "outputs": [
    {
     "output_type": "stream",
     "name": "stdout",
     "text": [
      "Location(x=84.410019, y=109.299995, z=0.221195)\nActor(id=567, type=vehicle.tesla.model3)\nVector3D(x=0.000000, y=0.000000, z=0.000000)\n"
     ]
    }
   ],
   "source": [
    "print(vehicle.get_location())\n",
    "print(vehicle)\n",
    "print(vehicle.get_velocity())"
   ]
  },
  {
   "cell_type": "code",
   "execution_count": null,
   "metadata": {},
   "outputs": [],
   "source": []
  }
 ]
}